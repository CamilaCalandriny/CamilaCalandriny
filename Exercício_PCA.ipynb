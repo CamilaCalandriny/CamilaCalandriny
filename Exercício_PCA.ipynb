{
 "cells": [
  {
   "cell_type": "markdown",
   "metadata": {},
   "source": [
    "## Análise de Componentes principais\n",
    "\n",
    "O consumo de vinho, cerveja, e licor (galões/ano), dados de expectativa de vida (anos) e taxa de ocorrência de doença cardíaca (casos/100.000 habitantes/ano) foram avaliados para 10 países. \n",
    "Um modelo de PCA utilizando duas componentes principais vai ser ajustado para estudar esse caso. "
   ]
  },
  {
   "cell_type": "code",
   "execution_count": 39,
   "metadata": {},
   "outputs": [],
   "source": [
    "#Importando as Bibliotecas\n",
    "import pandas as pd\n",
    "import numpy as np\n",
    "import seaborn as sns\n",
    "import matplotlib.pyplot as plt\n",
    "%matplotlib inline"
   ]
  },
  {
   "cell_type": "code",
   "execution_count": 40,
   "metadata": {},
   "outputs": [
    {
     "data": {
      "text/html": [
       "<div>\n",
       "<style scoped>\n",
       "    .dataframe tbody tr th:only-of-type {\n",
       "        vertical-align: middle;\n",
       "    }\n",
       "\n",
       "    .dataframe tbody tr th {\n",
       "        vertical-align: top;\n",
       "    }\n",
       "\n",
       "    .dataframe thead th {\n",
       "        text-align: right;\n",
       "    }\n",
       "</style>\n",
       "<table border=\"1\" class=\"dataframe\">\n",
       "  <thead>\n",
       "    <tr style=\"text-align: right;\">\n",
       "      <th></th>\n",
       "      <th>Países(amostras)</th>\n",
       "      <th>Licor</th>\n",
       "      <th>Vinho</th>\n",
       "      <th>Cerveja</th>\n",
       "      <th>Expectativa de Vida</th>\n",
       "      <th>Taxa de doença do coração</th>\n",
       "    </tr>\n",
       "  </thead>\n",
       "  <tbody>\n",
       "    <tr>\n",
       "      <th>0</th>\n",
       "      <td>França</td>\n",
       "      <td>2.5</td>\n",
       "      <td>63.5</td>\n",
       "      <td>40.1</td>\n",
       "      <td>78.0</td>\n",
       "      <td>61.1</td>\n",
       "    </tr>\n",
       "    <tr>\n",
       "      <th>1</th>\n",
       "      <td>Itália</td>\n",
       "      <td>0.9</td>\n",
       "      <td>58.0</td>\n",
       "      <td>25.1</td>\n",
       "      <td>78.0</td>\n",
       "      <td>94.1</td>\n",
       "    </tr>\n",
       "    <tr>\n",
       "      <th>2</th>\n",
       "      <td>Suíça</td>\n",
       "      <td>1.7</td>\n",
       "      <td>46.0</td>\n",
       "      <td>65.0</td>\n",
       "      <td>78.0</td>\n",
       "      <td>106.4</td>\n",
       "    </tr>\n",
       "    <tr>\n",
       "      <th>3</th>\n",
       "      <td>Áustria</td>\n",
       "      <td>1.2</td>\n",
       "      <td>15.7</td>\n",
       "      <td>102.1</td>\n",
       "      <td>78.0</td>\n",
       "      <td>173.0</td>\n",
       "    </tr>\n",
       "    <tr>\n",
       "      <th>4</th>\n",
       "      <td>Reino Unido</td>\n",
       "      <td>1.5</td>\n",
       "      <td>12.2</td>\n",
       "      <td>100.0</td>\n",
       "      <td>77.0</td>\n",
       "      <td>199.7</td>\n",
       "    </tr>\n",
       "    <tr>\n",
       "      <th>5</th>\n",
       "      <td>EUA</td>\n",
       "      <td>2.0</td>\n",
       "      <td>8.9</td>\n",
       "      <td>87.8</td>\n",
       "      <td>76.0</td>\n",
       "      <td>176.0</td>\n",
       "    </tr>\n",
       "    <tr>\n",
       "      <th>6</th>\n",
       "      <td>Rússsia</td>\n",
       "      <td>3.8</td>\n",
       "      <td>2.7</td>\n",
       "      <td>17.1</td>\n",
       "      <td>69.0</td>\n",
       "      <td>373.6</td>\n",
       "    </tr>\n",
       "    <tr>\n",
       "      <th>7</th>\n",
       "      <td>República Tcheca</td>\n",
       "      <td>1.0</td>\n",
       "      <td>1.7</td>\n",
       "      <td>140.0</td>\n",
       "      <td>73.0</td>\n",
       "      <td>283.7</td>\n",
       "    </tr>\n",
       "    <tr>\n",
       "      <th>8</th>\n",
       "      <td>Japão</td>\n",
       "      <td>2.1</td>\n",
       "      <td>1.0</td>\n",
       "      <td>55.0</td>\n",
       "      <td>79.0</td>\n",
       "      <td>34.7</td>\n",
       "    </tr>\n",
       "    <tr>\n",
       "      <th>9</th>\n",
       "      <td>México</td>\n",
       "      <td>0.8</td>\n",
       "      <td>0.2</td>\n",
       "      <td>50.4</td>\n",
       "      <td>73.0</td>\n",
       "      <td>36.4</td>\n",
       "    </tr>\n",
       "  </tbody>\n",
       "</table>\n",
       "</div>"
      ],
      "text/plain": [
       "   Países(amostras)   Licor   Vinho   Cerveja   Expectativa de Vida  \\\n",
       "0            França     2.5    63.5      40.1                  78.0   \n",
       "1            Itália     0.9    58.0      25.1                  78.0   \n",
       "2             Suíça     1.7    46.0      65.0                  78.0   \n",
       "3           Áustria     1.2    15.7     102.1                  78.0   \n",
       "4       Reino Unido     1.5    12.2     100.0                  77.0   \n",
       "5               EUA     2.0     8.9      87.8                  76.0   \n",
       "6           Rússsia     3.8     2.7      17.1                  69.0   \n",
       "7  República Tcheca     1.0     1.7     140.0                  73.0   \n",
       "8             Japão     2.1     1.0      55.0                  79.0   \n",
       "9            México     0.8     0.2      50.4                  73.0   \n",
       "\n",
       "    Taxa de doença do coração  \n",
       "0                        61.1  \n",
       "1                        94.1  \n",
       "2                       106.4  \n",
       "3                       173.0  \n",
       "4                       199.7  \n",
       "5                       176.0  \n",
       "6                       373.6  \n",
       "7                       283.7  \n",
       "8                        34.7  \n",
       "9                        36.4  "
      ]
     },
     "execution_count": 40,
     "metadata": {},
     "output_type": "execute_result"
    }
   ],
   "source": [
    "#Carregando e mostrando os dados no formato dataframe\n",
    "paises_df = pd.read_csv('/mnt/c/Users/camil/OneDrive/Área de Trabalho/Scripts-python/Coursera_python_labnotes/exercicio_paises.txt',sep=',')\n",
    "paises_df"
   ]
  },
  {
   "cell_type": "markdown",
   "metadata": {},
   "source": [
    "O primeiro passo é autoescalar os dados já que eles tem unidades muito diferentes"
   ]
  },
  {
   "cell_type": "code",
   "execution_count": 41,
   "metadata": {},
   "outputs": [
    {
     "name": "stdout",
     "output_type": "stream",
     "text": [
      "(10, 5)\n"
     ]
    }
   ],
   "source": [
    "# Transformando os dados em matrizes com numpy\n",
    "# Criando a matriz x com as 4 primeiras colunas de dados\n",
    "# Criando a matriz y de escoamento com a ultima coluna da variável paises_df \n",
    "\n",
    "x = paises_df.values[:,1:]\n",
    "\n",
    "# Verificando o tamanho das matrizes\n",
    "print(x.shape)\n"
   ]
  },
  {
   "cell_type": "code",
   "execution_count": 42,
   "metadata": {},
   "outputs": [
    {
     "data": {
      "text/plain": [
       "array([[2.5, 63.5, 40.1, 78.0, 61.1],\n",
       "       [0.9, 58.0, 25.1, 78.0, 94.1],\n",
       "       [1.7, 46.0, 65.0, 78.0, 106.4],\n",
       "       [1.2, 15.7, 102.1, 78.0, 173.0],\n",
       "       [1.5, 12.2, 100.0, 77.0, 199.7],\n",
       "       [2.0, 8.9, 87.8, 76.0, 176.0],\n",
       "       [3.8, 2.7, 17.1, 69.0, 373.6],\n",
       "       [1.0, 1.7, 140.0, 73.0, 283.7],\n",
       "       [2.1, 1.0, 55.0, 79.0, 34.7],\n",
       "       [0.8, 0.2, 50.4, 73.0, 36.4]], dtype=object)"
      ]
     },
     "execution_count": 42,
     "metadata": {},
     "output_type": "execute_result"
    }
   ],
   "source": [
    "# Mostrando a Matriz de dados x\n",
    "x"
   ]
  },
  {
   "cell_type": "code",
   "execution_count": 43,
   "metadata": {},
   "outputs": [
    {
     "data": {
      "text/plain": [
       "array([[0.7499999999999996, 42.510000000000005, -28.160000000000004,\n",
       "        2.0999999999999943, -92.77000000000004],\n",
       "       [-0.8500000000000004, 37.010000000000005, -43.160000000000004,\n",
       "        2.0999999999999943, -59.77000000000004],\n",
       "       [-0.05000000000000049, 25.010000000000005, -3.260000000000005,\n",
       "        2.0999999999999943, -47.47000000000003],\n",
       "       [-0.5500000000000005, -5.289999999999996, 33.83999999999999,\n",
       "        2.0999999999999943, 19.129999999999967],\n",
       "       [-0.25000000000000044, -8.789999999999996, 31.739999999999995,\n",
       "        1.0999999999999943, 45.829999999999956],\n",
       "       [0.24999999999999956, -12.089999999999995, 19.539999999999992,\n",
       "        0.09999999999999432, 22.129999999999967],\n",
       "       [2.0499999999999994, -18.289999999999996, -51.160000000000004,\n",
       "        -6.900000000000006, 219.73],\n",
       "       [-0.7500000000000004, -19.289999999999996, 71.74,\n",
       "        -2.9000000000000057, 129.82999999999996],\n",
       "       [0.34999999999999964, -19.989999999999995, -13.260000000000005,\n",
       "        3.0999999999999943, -119.17000000000003],\n",
       "       [-0.9500000000000004, -20.789999999999996, -17.860000000000007,\n",
       "        -2.9000000000000057, -117.47000000000003]], dtype=object)"
      ]
     },
     "execution_count": 43,
     "metadata": {},
     "output_type": "execute_result"
    }
   ],
   "source": [
    "# Centrando os dados na média\n",
    "x_mean = x-x.mean(axis=0)\n",
    "x_mean"
   ]
  },
  {
   "cell_type": "code",
   "execution_count": 44,
   "metadata": {},
   "outputs": [
    {
     "data": {
      "text/plain": [
       "array([[2.5, 0.9, 1.7, 1.2, 1.5, 2.0, 3.8, 1.0, 2.1, 0.8],\n",
       "       [63.5, 58.0, 46.0, 15.7, 12.2, 8.9, 2.7, 1.7, 1.0, 0.2],\n",
       "       [40.1, 25.1, 65.0, 102.1, 100.0, 87.8, 17.1, 140.0, 55.0, 50.4],\n",
       "       [78.0, 78.0, 78.0, 78.0, 77.0, 76.0, 69.0, 73.0, 79.0, 73.0],\n",
       "       [61.1, 94.1, 106.4, 173.0, 199.7, 176.0, 373.6, 283.7, 34.7, 36.4]],\n",
       "      dtype=object)"
      ]
     },
     "execution_count": 44,
     "metadata": {},
     "output_type": "execute_result"
    }
   ],
   "source": [
    "# Fazendo a transposta de x para calcular o desvio padrão\n",
    "transp_x = x.T\n",
    "transp_x"
   ]
  },
  {
   "cell_type": "code",
   "execution_count": 45,
   "metadata": {},
   "outputs": [
    {
     "data": {
      "text/plain": [
       "[0.9131751687868482,\n",
       " 24.927024602939586,\n",
       " 38.6717870172961,\n",
       " 3.21282153600573,\n",
       " 110.81816989004005]"
      ]
     },
     "execution_count": 45,
     "metadata": {},
     "output_type": "execute_result"
    }
   ],
   "source": [
    "# Cálculo do desvio padrão de cada coluna\n",
    "x_std = []\n",
    "for column in transp_x:\n",
    "  x_std.append(column.std(ddof=1))\n",
    "\n",
    "x_std\n"
   ]
  },
  {
   "cell_type": "code",
   "execution_count": 46,
   "metadata": {},
   "outputs": [
    {
     "data": {
      "text/plain": [
       "[[0.8213101118336074,\n",
       "  1.7053780255420818,\n",
       "  -0.7281794344648552,\n",
       "  0.6536310767546626,\n",
       "  -0.8371370876459302],\n",
       " [-0.930818126744756,\n",
       "  1.484733962016289,\n",
       "  -1.1160591048119017,\n",
       "  0.6536310767546626,\n",
       "  -0.5393519858639351],\n",
       " [-0.05475400745557439,\n",
       "  1.0033287325054685,\n",
       "  -0.08429918168875822,\n",
       "  0.6536310767546626,\n",
       "  -0.4283593570179186],\n",
       " [-0.602294082011313,\n",
       "  -0.21221947200935318,\n",
       "  0.8750565363029364,\n",
       "  0.6536310767546626,\n",
       "  0.17262512112392595],\n",
       " [-0.27377003727786975,\n",
       "  -0.35262933061667584,\n",
       "  0.8207533824543501,\n",
       "  0.34237818306196527,\n",
       "  0.41356033983844914],\n",
       " [0.2737700372778688,\n",
       "  -0.4850157687321514,\n",
       "  0.5052779172387523,\n",
       "  0.031125289369267964,\n",
       "  0.19969649401319822],\n",
       " [2.2449143056785275,\n",
       "  -0.7337418039794087,\n",
       "  -1.3229282623303265,\n",
       "  -2.1476449664796133,\n",
       "  1.9827975883199327],\n",
       " [-0.8213101118336082,\n",
       "  -0.7738589064386437,\n",
       "  1.8550991700464738,\n",
       "  -0.9026333917088241,\n",
       "  1.171558780738073],\n",
       " [0.38327805218901656,\n",
       "  -0.8019408781601083,\n",
       "  -0.34288562858678917,\n",
       "  0.96488397044736,\n",
       "  -1.0753651690715262],\n",
       " [-1.0403261416559038,\n",
       "  -0.8340345601274963,\n",
       "  -0.46183539415988345,\n",
       "  -0.9026333917088241,\n",
       "  -1.0600247244342718]]"
      ]
     },
     "execution_count": 46,
     "metadata": {},
     "output_type": "execute_result"
    }
   ],
   "source": [
    "# Divisão dos dados centrados na média pelo desvio padrão\n",
    "\n",
    "x_scaled =[]\n",
    "for row in x_mean:\n",
    "  x_scaled_row=[]\n",
    "  for i in range(0,len(row)):\n",
    "    x_scaled_row.append(row[i]/x_std[i])\n",
    "  x_scaled.append(x_scaled_row)\n",
    "\n",
    "x_scaled"
   ]
  },
  {
   "cell_type": "code",
   "execution_count": 47,
   "metadata": {},
   "outputs": [],
   "source": [
    "# Transformando em matriz a lista criada dos desvio padrão\n",
    "#from numpy.ma.core import array\n",
    "#x_scaled = array(x_scaled)\n",
    "x_scaled = np.array(x_scaled)"
   ]
  },
  {
   "cell_type": "code",
   "execution_count": 48,
   "metadata": {},
   "outputs": [
    {
     "data": {
      "text/plain": [
       "array([1., 1., 1., 1., 1.])"
      ]
     },
     "execution_count": 48,
     "metadata": {},
     "output_type": "execute_result"
    }
   ],
   "source": [
    "# Verificando o novo desvio padrão para ver se os dados estão centrados na média\n",
    "x_scaled.std(axis=0, ddof=1)"
   ]
  },
  {
   "cell_type": "markdown",
   "metadata": {},
   "source": [
    "Com os dados já autoescalados, já podemos começar a fazer algumas análises"
   ]
  },
  {
   "cell_type": "code",
   "execution_count": 49,
   "metadata": {},
   "outputs": [
    {
     "data": {
      "text/html": [
       "<div>\n",
       "<style scoped>\n",
       "    .dataframe tbody tr th:only-of-type {\n",
       "        vertical-align: middle;\n",
       "    }\n",
       "\n",
       "    .dataframe tbody tr th {\n",
       "        vertical-align: top;\n",
       "    }\n",
       "\n",
       "    .dataframe thead th {\n",
       "        text-align: right;\n",
       "    }\n",
       "</style>\n",
       "<table border=\"1\" class=\"dataframe\">\n",
       "  <thead>\n",
       "    <tr style=\"text-align: right;\">\n",
       "      <th></th>\n",
       "      <th>Licor</th>\n",
       "      <th>Vinho</th>\n",
       "      <th>Cerveja</th>\n",
       "      <th>Expectativa de Vida</th>\n",
       "      <th>Taxa de doença do coração</th>\n",
       "    </tr>\n",
       "  </thead>\n",
       "  <tbody>\n",
       "    <tr>\n",
       "      <th>0</th>\n",
       "      <td>0.821310</td>\n",
       "      <td>1.705378</td>\n",
       "      <td>-0.728179</td>\n",
       "      <td>0.653631</td>\n",
       "      <td>-0.837137</td>\n",
       "    </tr>\n",
       "    <tr>\n",
       "      <th>1</th>\n",
       "      <td>-0.930818</td>\n",
       "      <td>1.484734</td>\n",
       "      <td>-1.116059</td>\n",
       "      <td>0.653631</td>\n",
       "      <td>-0.539352</td>\n",
       "    </tr>\n",
       "    <tr>\n",
       "      <th>2</th>\n",
       "      <td>-0.054754</td>\n",
       "      <td>1.003329</td>\n",
       "      <td>-0.084299</td>\n",
       "      <td>0.653631</td>\n",
       "      <td>-0.428359</td>\n",
       "    </tr>\n",
       "    <tr>\n",
       "      <th>3</th>\n",
       "      <td>-0.602294</td>\n",
       "      <td>-0.212219</td>\n",
       "      <td>0.875057</td>\n",
       "      <td>0.653631</td>\n",
       "      <td>0.172625</td>\n",
       "    </tr>\n",
       "    <tr>\n",
       "      <th>4</th>\n",
       "      <td>-0.273770</td>\n",
       "      <td>-0.352629</td>\n",
       "      <td>0.820753</td>\n",
       "      <td>0.342378</td>\n",
       "      <td>0.413560</td>\n",
       "    </tr>\n",
       "    <tr>\n",
       "      <th>5</th>\n",
       "      <td>0.273770</td>\n",
       "      <td>-0.485016</td>\n",
       "      <td>0.505278</td>\n",
       "      <td>0.031125</td>\n",
       "      <td>0.199696</td>\n",
       "    </tr>\n",
       "    <tr>\n",
       "      <th>6</th>\n",
       "      <td>2.244914</td>\n",
       "      <td>-0.733742</td>\n",
       "      <td>-1.322928</td>\n",
       "      <td>-2.147645</td>\n",
       "      <td>1.982798</td>\n",
       "    </tr>\n",
       "    <tr>\n",
       "      <th>7</th>\n",
       "      <td>-0.821310</td>\n",
       "      <td>-0.773859</td>\n",
       "      <td>1.855099</td>\n",
       "      <td>-0.902633</td>\n",
       "      <td>1.171559</td>\n",
       "    </tr>\n",
       "    <tr>\n",
       "      <th>8</th>\n",
       "      <td>0.383278</td>\n",
       "      <td>-0.801941</td>\n",
       "      <td>-0.342886</td>\n",
       "      <td>0.964884</td>\n",
       "      <td>-1.075365</td>\n",
       "    </tr>\n",
       "    <tr>\n",
       "      <th>9</th>\n",
       "      <td>-1.040326</td>\n",
       "      <td>-0.834035</td>\n",
       "      <td>-0.461835</td>\n",
       "      <td>-0.902633</td>\n",
       "      <td>-1.060025</td>\n",
       "    </tr>\n",
       "  </tbody>\n",
       "</table>\n",
       "</div>"
      ],
      "text/plain": [
       "      Licor     Vinho   Cerveja   Expectativa de Vida  \\\n",
       "0  0.821310  1.705378 -0.728179              0.653631   \n",
       "1 -0.930818  1.484734 -1.116059              0.653631   \n",
       "2 -0.054754  1.003329 -0.084299              0.653631   \n",
       "3 -0.602294 -0.212219  0.875057              0.653631   \n",
       "4 -0.273770 -0.352629  0.820753              0.342378   \n",
       "5  0.273770 -0.485016  0.505278              0.031125   \n",
       "6  2.244914 -0.733742 -1.322928             -2.147645   \n",
       "7 -0.821310 -0.773859  1.855099             -0.902633   \n",
       "8  0.383278 -0.801941 -0.342886              0.964884   \n",
       "9 -1.040326 -0.834035 -0.461835             -0.902633   \n",
       "\n",
       "    Taxa de doença do coração  \n",
       "0                   -0.837137  \n",
       "1                   -0.539352  \n",
       "2                   -0.428359  \n",
       "3                    0.172625  \n",
       "4                    0.413560  \n",
       "5                    0.199696  \n",
       "6                    1.982798  \n",
       "7                    1.171559  \n",
       "8                   -1.075365  \n",
       "9                   -1.060025  "
      ]
     },
     "execution_count": 49,
     "metadata": {},
     "output_type": "execute_result"
    }
   ],
   "source": [
    "new_data = pd.DataFrame(data=x_scaled,columns=paises_df.columns[1:], index=paises_df.index)\n",
    "new_data"
   ]
  },
  {
   "cell_type": "code",
   "execution_count": 50,
   "metadata": {},
   "outputs": [
    {
     "data": {
      "text/html": [
       "<div>\n",
       "<style scoped>\n",
       "    .dataframe tbody tr th:only-of-type {\n",
       "        vertical-align: middle;\n",
       "    }\n",
       "\n",
       "    .dataframe tbody tr th {\n",
       "        vertical-align: top;\n",
       "    }\n",
       "\n",
       "    .dataframe thead th {\n",
       "        text-align: right;\n",
       "    }\n",
       "</style>\n",
       "<table border=\"1\" class=\"dataframe\">\n",
       "  <thead>\n",
       "    <tr style=\"text-align: right;\">\n",
       "      <th></th>\n",
       "      <th>Licor</th>\n",
       "      <th>Vinho</th>\n",
       "      <th>Cerveja</th>\n",
       "      <th>Expectativa de Vida</th>\n",
       "      <th>Taxa de doença do coração</th>\n",
       "    </tr>\n",
       "  </thead>\n",
       "  <tbody>\n",
       "    <tr>\n",
       "      <th>Licor</th>\n",
       "      <td>1.000000</td>\n",
       "      <td>-0.044005</td>\n",
       "      <td>-0.479160</td>\n",
       "      <td>-0.373038</td>\n",
       "      <td>0.428336</td>\n",
       "    </tr>\n",
       "    <tr>\n",
       "      <th>Vinho</th>\n",
       "      <td>-0.044005</td>\n",
       "      <td>1.000000</td>\n",
       "      <td>-0.389820</td>\n",
       "      <td>0.524422</td>\n",
       "      <td>-0.394727</td>\n",
       "    </tr>\n",
       "    <tr>\n",
       "      <th>Cerveja</th>\n",
       "      <td>-0.479160</td>\n",
       "      <td>-0.389820</td>\n",
       "      <td>1.000000</td>\n",
       "      <td>0.095653</td>\n",
       "      <td>0.249731</td>\n",
       "    </tr>\n",
       "    <tr>\n",
       "      <th>Expectativa de Vida</th>\n",
       "      <td>-0.373038</td>\n",
       "      <td>0.524422</td>\n",
       "      <td>0.095653</td>\n",
       "      <td>1.000000</td>\n",
       "      <td>-0.701743</td>\n",
       "    </tr>\n",
       "    <tr>\n",
       "      <th>Taxa de doença do coração</th>\n",
       "      <td>0.428336</td>\n",
       "      <td>-0.394727</td>\n",
       "      <td>0.249731</td>\n",
       "      <td>-0.701743</td>\n",
       "      <td>1.000000</td>\n",
       "    </tr>\n",
       "  </tbody>\n",
       "</table>\n",
       "</div>"
      ],
      "text/plain": [
       "                               Licor     Vinho   Cerveja  \\\n",
       " Licor                      1.000000 -0.044005 -0.479160   \n",
       " Vinho                     -0.044005  1.000000 -0.389820   \n",
       " Cerveja                   -0.479160 -0.389820  1.000000   \n",
       " Expectativa de Vida       -0.373038  0.524422  0.095653   \n",
       " Taxa de doença do coração  0.428336 -0.394727  0.249731   \n",
       "\n",
       "                             Expectativa de Vida   Taxa de doença do coração  \n",
       " Licor                                 -0.373038                    0.428336  \n",
       " Vinho                                  0.524422                   -0.394727  \n",
       " Cerveja                                0.095653                    0.249731  \n",
       " Expectativa de Vida                    1.000000                   -0.701743  \n",
       " Taxa de doença do coração             -0.701743                    1.000000  "
      ]
     },
     "execution_count": 50,
     "metadata": {},
     "output_type": "execute_result"
    }
   ],
   "source": [
    "# Cálculo da matriz de correlações \n",
    "corr = new_data.corr()\n",
    "corr"
   ]
  },
  {
   "cell_type": "code",
   "execution_count": 51,
   "metadata": {},
   "outputs": [
    {
     "data": {
      "text/plain": [
       "<AxesSubplot:>"
      ]
     },
     "execution_count": 51,
     "metadata": {},
     "output_type": "execute_result"
    },
    {
     "data": {
      "image/png": "[encoded data removed]",
      "text/plain": [
       "<Figure size 432x288 with 2 Axes>"
      ]
     },
     "metadata": {
      "needs_background": "light"
     },
     "output_type": "display_data"
    }
   ],
   "source": [
    "# Mapa de calor das correlações \n",
    "sns.heatmap(corr,\n",
    "        xticklabels=corr.columns,\n",
    "        yticklabels=corr.columns,cmap='YlGnBu')"
   ]
  },
  {
   "cell_type": "markdown",
   "metadata": {},
   "source": [
    "Já pelo mapa de calor, é possível ver algumas associações. Aparentemente, podemos ver uma associação moderada do licor com a taxa de doença do coração e vinho com expectativa de vida. "
   ]
  },
  {
   "cell_type": "markdown",
   "metadata": {},
   "source": [
    "Agora, fazendo a análise de componentes principais"
   ]
  },
  {
   "cell_type": "code",
   "execution_count": 52,
   "metadata": {},
   "outputs": [
    {
     "data": {
      "text/plain": [
       "PCA(n_components=5)"
      ]
     },
     "execution_count": 52,
     "metadata": {},
     "output_type": "execute_result"
    }
   ],
   "source": [
    "# Cálculo do PCA para todas variáveis\n",
    "from sklearn.decomposition import PCA\n",
    "\n",
    "pca = PCA(n_components=5)\n",
    "pca"
   ]
  },
  {
   "cell_type": "code",
   "execution_count": 53,
   "metadata": {},
   "outputs": [
    {
     "data": {
      "text/plain": [
       "PCA(n_components=5)"
      ]
     },
     "execution_count": 53,
     "metadata": {},
     "output_type": "execute_result"
    }
   ],
   "source": [
    "pca.fit(x_scaled)"
   ]
  },
  {
   "cell_type": "markdown",
   "metadata": {},
   "source": [
    "Fazendo a análise com todas as componetes para ver quanto cada uma consegue mostrar de informação"
   ]
  },
  {
   "cell_type": "code",
   "execution_count": 54,
   "metadata": {},
   "outputs": [
    {
     "data": {
      "text/plain": [
       "array([0.46, 0.32, 0.12, 0.08, 0.02])"
      ]
     },
     "execution_count": 54,
     "metadata": {},
     "output_type": "execute_result"
    }
   ],
   "source": [
    "# Variância das compoentes principais\n",
    "var_ratio = pca.explained_variance_ratio_\n",
    "\n",
    "#arrendondando os valores\n",
    "np.round(var_ratio,2)"
   ]
  },
  {
   "cell_type": "markdown",
   "metadata": {},
   "source": [
    "A primeira componente explica 46% da variabilidade dos dados, a segunda explica 32%."
   ]
  },
  {
   "cell_type": "code",
   "execution_count": 55,
   "metadata": {},
   "outputs": [
    {
     "data": {
      "text/plain": [
       "array([0.46027599, 0.78142365, 0.89827076, 0.98271345, 1.        ])"
      ]
     },
     "execution_count": 55,
     "metadata": {},
     "output_type": "execute_result"
    }
   ],
   "source": [
    "# Variância Acumulada\n",
    "var_ratio.cumsum()"
   ]
  },
  {
   "cell_type": "markdown",
   "metadata": {},
   "source": [
    "Vendo a variância acumulada, vemos que as duas primeiras explicam 78% da variabilidade."
   ]
  },
  {
   "cell_type": "markdown",
   "metadata": {},
   "source": [
    "#### A) Apresentar a tabela contendo a variância explicada por cada uma das duas componentes principais e a variância acumulada. Qual o percentual de variância que não é explicado pelo modelo de PCA?"
   ]
  },
  {
   "cell_type": "markdown",
   "metadata": {},
   "source": [
    "Agora vamos fazer a análise de PCA para duas componentes principais."
   ]
  },
  {
   "cell_type": "code",
   "execution_count": 56,
   "metadata": {},
   "outputs": [],
   "source": [
    "# Considerando apenas 2 componentes principais\n",
    "pca=PCA(n_components=2)\n",
    "pca_scores = pca.fit(x_scaled)\n",
    "pca_x = pca_scores.transform(x_scaled)\n"
   ]
  },
  {
   "cell_type": "code",
   "execution_count": 57,
   "metadata": {},
   "outputs": [
    {
     "data": {
      "text/plain": [
       "array([0.46, 0.32])"
      ]
     },
     "execution_count": 57,
     "metadata": {},
     "output_type": "execute_result"
    }
   ],
   "source": [
    "# Variância das compoentes principais\n",
    "var_ratio = pca.explained_variance_ratio_\n",
    "\n",
    "#arrendondando os valores\n",
    "np.round(var_ratio,2)"
   ]
  },
  {
   "cell_type": "markdown",
   "metadata": {},
   "source": [
    "Como já visto, as duas primeiras componentes principais, explicam apenas 78% da variabilidade dos dados, 22% não é explicado. Quase 1/4 das informações não ficam explicadas.\n"
   ]
  },
  {
   "cell_type": "markdown",
   "metadata": {},
   "source": [
    "#### B) Apresentar o gráfico dos valores de T² de Hotteling em função dos países e seu respectivo limite com 95% confiança para esse modelo de duas componetes principais. Algum país excede esse limite? Qual o significado dos valores de T² de Hotteling?"
   ]
  },
  {
   "cell_type": "markdown",
   "metadata": {},
   "source": [
    "Fazendo uma elipse, com limite de 95% de variância, pode-se enxergar quais países estão dentro e fora do limite. Os valores de T2 superiores ao limite significam que esses valores estão distantes do centro, enquanto que os valores inferiores ao limite, indicam que esses valores estão próximos do centro do modelo de PCA. Os limites são definidos pela borda da elipse."
   ]
  },
  {
   "cell_type": "code",
   "execution_count": 58,
   "metadata": {},
   "outputs": [],
   "source": [
    "from sklearn import decomposition\n",
    "import scipy\n",
    "\n",
    "#Calculo do limite da elipse com os escores\n",
    "theta = np.concatenate((np.linspace(-np.pi, np.pi, 50), np.linspace(np.pi, -np.pi, 50)))\n",
    "circle = np.array((np.cos(theta), np.sin(theta)))\n",
    "sigma = np.cov(np.array((pca_x[:, 0], pca_x[:, 1])))\n",
    "ed = np.sqrt(scipy.stats.chi2.ppf(0.95, 2))\n",
    "ell = np.transpose(circle).dot(np.linalg.cholesky(sigma) * ed)\n",
    "a, b = np.max(ell[: ,0]), np.max(ell[: ,1]) #95% limite de confiança para  a elipse\n",
    "t = np.linspace(0, 2 * np.pi, 100)\n",
    "\n",
    "\n",
    "\n",
    "#Código adaptado de um código em R"
   ]
  },
  {
   "cell_type": "code",
   "execution_count": 76,
   "metadata": {},
   "outputs": [],
   "source": [
    "paises = ['França','Itália','Suíça', 'Áustria','Reino Unido','EUA','Rússia','República Tcheca','Japão','México']"
   ]
  },
  {
   "cell_type": "code",
   "execution_count": 79,
   "metadata": {},
   "outputs": [
    {
     "data": {
      "image/png": "[encoded data removed]",
      "text/plain": [
       "<Figure size 576x288 with 1 Axes>"
      ]
     },
     "metadata": {
      "needs_background": "light"
     },
     "output_type": "display_data"
    }
   ],
   "source": [
    "# Gráfico de Elipse\n",
    "fig, ax = plt.subplots(1,1,figsize=(8,4))\n",
    "\n",
    "#plotar gráfico de pontos\n",
    "ax.scatter(pca_x[:, 0], pca_x[:, 1])\n",
    "ax.plot(a * np.cos(t), b * np.sin(t), color = 'red')\n",
    "\n",
    "#Adicionando legendas\n",
    "for index, series in principal_df.iterrows():\n",
    "    ax.text(series[0]+0.2, series[1]+0.2,index)\n",
    "\n",
    "# Ajuste gráfico\n",
    "#ax.set_xlabel()\n",
    "#ax.set_ylabel()\n",
    "#ax.set_title()\n",
    "#ax.set_ylim(-3,3)\n",
    "#ax.set_xlim(-2,4)\n",
    "ax.grid(color = 'lightgray', linestyle = '--')"
   ]
  },
  {
   "cell_type": "markdown",
   "metadata": {},
   "source": [
    "Como pode-se ver, a Rússia encontra-se fora dos limite de confiança de 95%.\n",
    "\n",
    "Analisando agora todos os valores de T2."
   ]
  },
  {
   "cell_type": "code",
   "execution_count": 60,
   "metadata": {},
   "outputs": [],
   "source": [
    "import hotelling\n",
    "from hotelling.stats import hotelling_t2\n",
    "from hotelling.stats import hotelling_dict\n",
    "from hotelling.plots import control_chart\n"
   ]
  },
  {
   "cell_type": "code",
   "execution_count": 61,
   "metadata": {},
   "outputs": [
    {
     "data": {
      "text/plain": [
       "{'t2_stat': 8.118887789916831e-32,\n",
       " 'f_stat': 3.6083945732963695e-32,\n",
       " 'p_value': 1.0,\n",
       " 'pooled_var': array([[2.30137995e+00, 3.00920457e-16],\n",
       "        [3.00920457e-16, 1.60573832e+00]])}"
      ]
     },
     "execution_count": 61,
     "metadata": {},
     "output_type": "execute_result"
    }
   ],
   "source": [
    "# Cálculo dos valores de teste de T2\n",
    "hotelling_dict(pca_x)"
   ]
  },
  {
   "cell_type": "code",
   "execution_count": 62,
   "metadata": {},
   "outputs": [
    {
     "data": {
      "text/plain": [
       "<AxesSubplot:title={'center':'Hotelling Control Chart (α=0.01, phase=1)'}, xlabel='samples'>"
      ]
     },
     "execution_count": 62,
     "metadata": {},
     "output_type": "execute_result"
    },
    {
     "data": {
      "image/png": "[encoded data removed]",
      "text/plain": [
       "<Figure size 720x360 with 1 Axes>"
      ]
     },
     "metadata": {
      "needs_background": "light"
     },
     "output_type": "display_data"
    }
   ],
   "source": [
    "\n",
    "control_chart(new_data, alpha=0.01, legend_right=False, interactive=False)"
   ]
  },
  {
   "cell_type": "markdown",
   "metadata": {},
   "source": [
    "Fazendo ainda um gráfico com os limites inferiores e superiores, vê-se que a amostra 6 está fora do limite. A amostra 6 é justamente a Rússia, confirmando o que o gráfico com a Elipse já tinha mostrado anteriormente. "
   ]
  },
  {
   "cell_type": "markdown",
   "metadata": {},
   "source": [
    "#### C) Apresente ps gráficos de escores e pesos das duas primeiras componentes principais (gráficos de PC1xPC2). Faça a interpretação desses gráficos indicando:\n",
    "    - Qual bebida apresenta maior correlação com a expectativa de vida?\n",
    "    - Existe algum país que apresenta comportamento distinto dos demais? Qual? E o explica esse comportamento pelos gráficos gerados"
   ]
  },
  {
   "cell_type": "code",
   "execution_count": 63,
   "metadata": {},
   "outputs": [
    {
     "data": {
      "text/html": [
       "<div>\n",
       "<style scoped>\n",
       "    .dataframe tbody tr th:only-of-type {\n",
       "        vertical-align: middle;\n",
       "    }\n",
       "\n",
       "    .dataframe tbody tr th {\n",
       "        vertical-align: top;\n",
       "    }\n",
       "\n",
       "    .dataframe thead th {\n",
       "        text-align: right;\n",
       "    }\n",
       "</style>\n",
       "<table border=\"1\" class=\"dataframe\">\n",
       "  <thead>\n",
       "    <tr style=\"text-align: right;\">\n",
       "      <th></th>\n",
       "      <th>PC1</th>\n",
       "      <th>PC2</th>\n",
       "    </tr>\n",
       "    <tr>\n",
       "      <th>Países(amostras)</th>\n",
       "      <th></th>\n",
       "      <th></th>\n",
       "    </tr>\n",
       "  </thead>\n",
       "  <tbody>\n",
       "    <tr>\n",
       "      <th>França</th>\n",
       "      <td>-1.395346</td>\n",
       "      <td>-1.619152</td>\n",
       "    </tr>\n",
       "    <tr>\n",
       "      <th>Itália</th>\n",
       "      <td>-1.759635</td>\n",
       "      <td>-0.808364</td>\n",
       "    </tr>\n",
       "    <tr>\n",
       "      <th>Suíça</th>\n",
       "      <td>-1.101848</td>\n",
       "      <td>-0.371676</td>\n",
       "    </tr>\n",
       "    <tr>\n",
       "      <th>Áustria</th>\n",
       "      <td>-0.331668</td>\n",
       "      <td>1.120326</td>\n",
       "    </tr>\n",
       "    <tr>\n",
       "      <th>Reino Unido</th>\n",
       "      <td>0.161888</td>\n",
       "      <td>0.931035</td>\n",
       "    </tr>\n",
       "    <tr>\n",
       "      <th>EUA</th>\n",
       "      <td>0.445228</td>\n",
       "      <td>0.405364</td>\n",
       "    </tr>\n",
       "    <tr>\n",
       "      <th>Rússsia</th>\n",
       "      <td>3.408518</td>\n",
       "      <td>-2.055630</td>\n",
       "    </tr>\n",
       "    <tr>\n",
       "      <th>República Tcheca</th>\n",
       "      <td>1.403245</td>\n",
       "      <td>2.076033</td>\n",
       "    </tr>\n",
       "    <tr>\n",
       "      <th>Japão</th>\n",
       "      <td>-0.722391</td>\n",
       "      <td>-0.125959</td>\n",
       "    </tr>\n",
       "    <tr>\n",
       "      <th>México</th>\n",
       "      <td>-0.107991</td>\n",
       "      <td>0.448024</td>\n",
       "    </tr>\n",
       "  </tbody>\n",
       "</table>\n",
       "</div>"
      ],
      "text/plain": [
       "                       PC1       PC2\n",
       "Países(amostras)                    \n",
       "França           -1.395346 -1.619152\n",
       "Itália           -1.759635 -0.808364\n",
       "Suíça            -1.101848 -0.371676\n",
       "Áustria          -0.331668  1.120326\n",
       "Reino Unido       0.161888  0.931035\n",
       "EUA               0.445228  0.405364\n",
       "Rússsia           3.408518 -2.055630\n",
       "República Tcheca  1.403245  2.076033\n",
       "Japão            -0.722391 -0.125959\n",
       "México           -0.107991  0.448024"
      ]
     },
     "execution_count": 63,
     "metadata": {},
     "output_type": "execute_result"
    }
   ],
   "source": [
    "# Melhorar a visualização\n",
    "principal_df = pd.DataFrame(data=pca_x,columns=['PC1', 'PC2'], index=paises_df['Países(amostras)'])\n",
    "principal_df"
   ]
  },
  {
   "cell_type": "code",
   "execution_count": 64,
   "metadata": {},
   "outputs": [
    {
     "name": "stdout",
     "output_type": "stream",
     "text": [
      "França PC1   -1.395346\n",
      "PC2   -1.619152\n",
      "Name: França, dtype: float64\n"
     ]
    }
   ],
   "source": [
    "for index, series in principal_df.iterrows():\n",
    "    print(index,series)\n",
    "    break"
   ]
  },
  {
   "cell_type": "code",
   "execution_count": 65,
   "metadata": {},
   "outputs": [
    {
     "data": {
      "text/plain": [
       "(-2.0, 4.0)"
      ]
     },
     "execution_count": 65,
     "metadata": {},
     "output_type": "execute_result"
    },
    {
     "data": {
      "image/png": "[encoded data removed]",
      "text/plain": [
       "<Figure size 576x288 with 1 Axes>"
      ]
     },
     "metadata": {
      "needs_background": "light"
     },
     "output_type": "display_data"
    }
   ],
   "source": [
    "# Gráfico de  Escores PCA\n",
    "fig, ax = plt.subplots(1,1,figsize=(8,4))\n",
    "\n",
    "#plotar gráfico de pontos\n",
    "ax.scatter(principal_df['PC1'], principal_df['PC2'])\n",
    "\n",
    "#Adicionando legendas\n",
    "for index, series in principal_df.iterrows():\n",
    "    ax.text(series[0]+0.2, series[1]+0.2,index)\n",
    "\n",
    "# Ajuste gráfico\n",
    "ax.set_xlabel('PC 1')\n",
    "ax.set_ylabel('PC 2')\n",
    "ax.set_title(\"PCA - Escores (2 componentes)\")\n",
    "ax.set_ylim(-3,3)\n",
    "ax.set_xlim(-2,4)\n",
    "#ax.grid()\n"
   ]
  },
  {
   "cell_type": "code",
   "execution_count": 66,
   "metadata": {},
   "outputs": [
    {
     "data": {
      "text/plain": [
       "(2, 5)"
      ]
     },
     "execution_count": 66,
     "metadata": {},
     "output_type": "execute_result"
    }
   ],
   "source": [
    "#Calculando os pesos\n",
    "pesos = pca.components_\n",
    "pesos.shape"
   ]
  },
  {
   "cell_type": "code",
   "execution_count": 67,
   "metadata": {},
   "outputs": [
    {
     "data": {
      "text/plain": [
       "array([[ 0.34589643, -0.44503945,  0.07396122, -0.58497991,  0.57846675],\n",
       "       [-0.56809194, -0.37836312,  0.72440484,  0.08642298,  0.04337726]])"
      ]
     },
     "execution_count": 67,
     "metadata": {},
     "output_type": "execute_result"
    }
   ],
   "source": [
    "pesos"
   ]
  },
  {
   "cell_type": "code",
   "execution_count": 68,
   "metadata": {},
   "outputs": [
    {
     "data": {
      "text/plain": [
       "array([[ 0.34589643, -0.56809194],\n",
       "       [-0.44503945, -0.37836312],\n",
       "       [ 0.07396122,  0.72440484],\n",
       "       [-0.58497991,  0.08642298],\n",
       "       [ 0.57846675,  0.04337726]])"
      ]
     },
     "execution_count": 68,
     "metadata": {},
     "output_type": "execute_result"
    }
   ],
   "source": [
    "pesos = pesos.transpose()\n",
    "pesos"
   ]
  },
  {
   "cell_type": "code",
   "execution_count": 69,
   "metadata": {},
   "outputs": [
    {
     "data": {
      "text/html": [
       "<div>\n",
       "<style scoped>\n",
       "    .dataframe tbody tr th:only-of-type {\n",
       "        vertical-align: middle;\n",
       "    }\n",
       "\n",
       "    .dataframe tbody tr th {\n",
       "        vertical-align: top;\n",
       "    }\n",
       "\n",
       "    .dataframe thead th {\n",
       "        text-align: right;\n",
       "    }\n",
       "</style>\n",
       "<table border=\"1\" class=\"dataframe\">\n",
       "  <thead>\n",
       "    <tr style=\"text-align: right;\">\n",
       "      <th></th>\n",
       "      <th>PC1</th>\n",
       "      <th>PC2</th>\n",
       "    </tr>\n",
       "  </thead>\n",
       "  <tbody>\n",
       "    <tr>\n",
       "      <th>Licor</th>\n",
       "      <td>0.345896</td>\n",
       "      <td>-0.568092</td>\n",
       "    </tr>\n",
       "    <tr>\n",
       "      <th>Vinho</th>\n",
       "      <td>-0.445039</td>\n",
       "      <td>-0.378363</td>\n",
       "    </tr>\n",
       "    <tr>\n",
       "      <th>Cerveja</th>\n",
       "      <td>0.073961</td>\n",
       "      <td>0.724405</td>\n",
       "    </tr>\n",
       "    <tr>\n",
       "      <th>Expectativa de Vida</th>\n",
       "      <td>-0.584980</td>\n",
       "      <td>0.086423</td>\n",
       "    </tr>\n",
       "    <tr>\n",
       "      <th>Taxa de doença do coração</th>\n",
       "      <td>0.578467</td>\n",
       "      <td>0.043377</td>\n",
       "    </tr>\n",
       "  </tbody>\n",
       "</table>\n",
       "</div>"
      ],
      "text/plain": [
       "                                PC1       PC2\n",
       "Licor                      0.345896 -0.568092\n",
       "Vinho                     -0.445039 -0.378363\n",
       "Cerveja                    0.073961  0.724405\n",
       "Expectativa de Vida       -0.584980  0.086423\n",
       "Taxa de doença do coração  0.578467  0.043377"
      ]
     },
     "execution_count": 69,
     "metadata": {},
     "output_type": "execute_result"
    }
   ],
   "source": [
    "#Criando um dataframe dos pesos para melhorar visualização\n",
    "pesos_princ = pd.DataFrame(data=pesos,columns=['PC1', 'PC2'],index=['Licor','Vinho','Cerveja','Expectativa de Vida','Taxa de doença do coração'])\n",
    "pesos_princ"
   ]
  },
  {
   "cell_type": "code",
   "execution_count": 70,
   "metadata": {},
   "outputs": [
    {
     "data": {
      "text/plain": [
       "(-2.0, 4.0)"
      ]
     },
     "execution_count": 70,
     "metadata": {},
     "output_type": "execute_result"
    },
    {
     "data": {
      "image/png": "[encoded data removed]",
      "text/plain": [
       "<Figure size 576x288 with 1 Axes>"
      ]
     },
     "metadata": {
      "needs_background": "light"
     },
     "output_type": "display_data"
    }
   ],
   "source": [
    "# Gráfico de pesos de PCA\n",
    "fig, ax = plt.subplots(1,1,figsize=(8,4))\n",
    "\n",
    "#plotar gráfico de pontos\n",
    "ax.scatter(pesos_princ['PC1'], pesos_princ['PC2'])\n",
    "\n",
    "#Adicionando legendas\n",
    "for index, series in pesos_princ.iterrows():\n",
    "    ax.text(series[0]+0.2, series[1]+0.2,index)\n",
    "\n",
    "# Ajuste gráfico\n",
    "ax.set_xlabel('PC 1')\n",
    "ax.set_ylabel('PC 2')\n",
    "ax.set_title(\"PCA - Pesos (2 componentes)\")\n",
    "ax.set_ylim(-3,3)\n",
    "ax.set_xlim(-2,4)\n",
    "#ax.grid()\n"
   ]
  },
  {
   "cell_type": "markdown",
   "metadata": {},
   "source": [
    "\n",
    "- Como pode-se ver, no gráfico de pesos, a bebida mais próxima de expectativa de vida é o Vinho, algo que até já pode ser constatado no mapa de calor. No mapa de calor, também foi citado a correlação entre Licor e doença do coração, que também pode ser visto no gráfico de pesos que eles estão relacionados. \n",
    "\n",
    "- No gráfico de escores, vemos que a Rússia tem o comportamento mais distinto entre todos os países, ficando muito afastada dos outros pontos. Fica também difícil de ligar a Rússia a qualquer outra bebida ou informação pela distância.\n",
    "\n",
    "- Comparando agora os dois gráficos, vemos que Japão e Áustria estão muito ligados à Cerveja. Suíça com o vinho. EUA, México e Reino Unido estão correlacionados ao Licor. \n"
   ]
  }
 ],
 "metadata": {
  "interpreter": {
   "hash": "916dbcbb3f70747c44a77c7bcd40155683ae19c65e1c03b4aa3499c5328201f1"
  },
  "kernelspec": {
   "display_name": "Python 3.8.10 64-bit",
   "language": "python",
   "name": "python3"
  },
  "language_info": {
   "codemirror_mode": {
    "name": "ipython",
    "version": 3
   },
   "file_extension": ".py",
   "mimetype": "text/x-python",
   "name": "python",
   "nbconvert_exporter": "python",
   "pygments_lexer": "ipython3",
   "version": "3.8.10"
  },
  "orig_nbformat": 4
 },
 "nbformat": 4,
 "nbformat_minor": 2
}
